{
 "cells": [
  {
   "cell_type": "code",
   "execution_count": 1,
   "metadata": {},
   "outputs": [],
   "source": [
    "import models\n",
    "from torchvision.utils import make_grid\n",
    "from torch import nn\n",
    "import matplotlib.pyplot as plt\n",
    "\n",
    "def show_conv1(model):\n",
    "    for m in [module for module in model.modules() if type(module) != nn.Sequential]:\n",
    "        if isinstance(m, nn.Conv2d):\n",
    "            break\n",
    "    kernels = m.weight.detach().clone().cpu()\n",
    "    kernels = kernels - kernels.min()\n",
    "    kernels = kernels / kernels.max()\n",
    "    img = make_grid(kernels, nrow=16)\n",
    "    ax = plt.imshow(img.permute(1, 2, 0))\n",
    "    return ax;"
   ]
  },
  {
   "cell_type": "code",
   "execution_count": 3,
   "metadata": {},
   "outputs": [
    {
     "name": "stdout",
     "output_type": "stream",
     "text": [
      "=> loading checkpoint: 06_instance_imagenet_AlexNet_n5_lr03_pct40_t07_div1000_e100_bs128_bm20_gn_stack_final_weights_only.pth.tar\n",
      "=> state loaded.\n",
      "{'ref#': 1, 'type': 'ipcl', 'details': 'primary model', 'aug': 'Set 1', 'top1_knn': 38.4, 'top1_linear': 39.5}\n"
     ]
    }
   ],
   "source": [
    "model_name = 'ipcl1'\n",
    "model, transform = models.__dict__[model_name]()"
   ]
  },
  {
   "cell_type": "code",
   "execution_count": 5,
   "metadata": {},
   "outputs": [],
   "source": [
    "show_conv1(model);"
   ]
  },
  {
   "cell_type": "code",
   "execution_count": null,
   "metadata": {},
   "outputs": [],
   "source": []
  }
 ],
 "metadata": {
  "kernelspec": {
   "display_name": "Python 3",
   "language": "python",
   "name": "python3"
  },
  "language_info": {
   "codemirror_mode": {
    "name": "ipython",
    "version": 3
   },
   "file_extension": ".py",
   "mimetype": "text/x-python",
   "name": "python",
   "nbconvert_exporter": "python",
   "pygments_lexer": "ipython3",
   "version": "3.6.10"
  }
 },
 "nbformat": 4,
 "nbformat_minor": 4
}
